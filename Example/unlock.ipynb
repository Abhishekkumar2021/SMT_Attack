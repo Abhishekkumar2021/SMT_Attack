{
 "cells": [
  {
   "cell_type": "code",
   "execution_count": 32,
   "metadata": {},
   "outputs": [],
   "source": [
    "from z3 import Solver, sat, Int, If, Bool, And, Xor, Not"
   ]
  },
  {
   "cell_type": "code",
   "execution_count": 33,
   "metadata": {},
   "outputs": [],
   "source": [
    "# Inputs\n",
    "a = Int('a')\n",
    "b = Int('b')\n"
   ]
  },
  {
   "cell_type": "code",
   "execution_count": 34,
   "metadata": {},
   "outputs": [
    {
     "name": "stdout",
     "output_type": "stream",
     "text": [
      "[k31 = True,\n",
      " k32 = True,\n",
      " out1 = 1,\n",
      " out2 = 0,\n",
      " k12 = 0,\n",
      " k11 = 1,\n",
      " a = 0,\n",
      " b = 0]\n"
     ]
    }
   ],
   "source": [
    "# Assert conditions\n",
    "S = Solver()\n",
    "\n",
    "# Two key sets\n",
    "k11 = Int('k11')\n",
    "k21 = Int('k21')\n",
    "k31 = Bool('k31')\n",
    "\n",
    "k12 = Int('k12')\n",
    "k22 = Int('k22')\n",
    "k32 = Bool('k32')\n",
    "\n",
    "out1 = Int('out1')\n",
    "out2 = Int('out2')\n",
    "\n",
    "# Adding conditions\n",
    "S.add(If(Xor((a>b), k31), out1 == a + k11, out1 == b * k21))\n",
    "S.add(If(Xor((a>b), k32), out2 == a + k12, out2 == b * k22))\n",
    "\n",
    "\n",
    "if(S.check() == sat):\n",
    "    print(S.model())\n",
    "\n"
   ]
  },
  {
   "cell_type": "code",
   "execution_count": 35,
   "metadata": {},
   "outputs": [
    {
     "name": "stdout",
     "output_type": "stream",
     "text": [
      "[k12 = -1,\n",
      " out1 = 0,\n",
      " k32 = False,\n",
      " b = 1,\n",
      " k31 = False,\n",
      " out2 = 1,\n",
      " k11 = -2,\n",
      " a = 2]\n"
     ]
    }
   ],
   "source": [
    "# 1st DIP (0,0) => 0\n",
    "S.add(If(Xor((0>0), k31), 0 == 0 + k11, 0 == 0 * k21))\n",
    "S.add(If(Xor((0>0), k32), 0 == 0 + k12, 0 == 0 * k22))\n",
    "\n",
    "if(S.check() == sat):\n",
    "    print(S.model())\n",
    "else :\n",
    "    print(\"No solution\")"
   ]
  },
  {
   "cell_type": "code",
   "execution_count": 36,
   "metadata": {},
   "outputs": [
    {
     "name": "stdout",
     "output_type": "stream",
     "text": [
      "[k12 = 0,\n",
      " k22 = 7,\n",
      " out1 = 12,\n",
      " k32 = True,\n",
      " b = 1,\n",
      " k31 = False,\n",
      " out2 = 7,\n",
      " k11 = 5,\n",
      " a = 7]\n"
     ]
    }
   ],
   "source": [
    "S.add(If(Xor((2>1), k31), 7 == 2 + k11, 7 == 1 * k21))\n",
    "S.add(If(Xor((2>1), k32), 7 == 2 + k12, 7 == 1 * k22))\n",
    "\n",
    "if(S.check() == sat):\n",
    "    print(S.model())\n",
    "else :\n",
    "    print(\"No solution\")"
   ]
  },
  {
   "cell_type": "code",
   "execution_count": 38,
   "metadata": {},
   "outputs": [
    {
     "name": "stdout",
     "output_type": "stream",
     "text": [
      "[k12 = 5,\n",
      " k22 = 6,\n",
      " k21 = 8,\n",
      " out1 = 8,\n",
      " k32 = False,\n",
      " b = 1,\n",
      " k31 = False,\n",
      " k11 = 5,\n",
      " out2 = 6,\n",
      " a = 1]\n"
     ]
    }
   ],
   "source": [
    "S.add(If(Xor((7>1), k31), 12 == 7 + k11, 12 == 1 * k21))\n",
    "S.add(If(Xor((7>1), k32), 12 == 7 + k12, 12 == 1 * k22))\n",
    "\n",
    "if(S.check() == sat):\n",
    "    print(S.model())\n",
    "else :\n",
    "    print(\"No solution\")"
   ]
  },
  {
   "cell_type": "code",
   "execution_count": 49,
   "metadata": {},
   "outputs": [
    {
     "name": "stdout",
     "output_type": "stream",
     "text": [
      "No solution\n"
     ]
    }
   ],
   "source": [
    "\n",
    "S.add(If(Xor((71>1), k31), 3 == 1 + k11, 3 == 1 * k21))\n",
    "S.add(If(Xor((1>1), k32), 3 == 1 + k12, 3 == 1 * k22))\n",
    "\n",
    "if(S.check() == sat):\n",
    "    print(S.model())\n",
    "else :\n",
    "    print(\"No solution\")\n",
    "    "
   ]
  }
 ],
 "metadata": {
  "kernelspec": {
   "display_name": "Python 3",
   "language": "python",
   "name": "python3"
  },
  "language_info": {
   "codemirror_mode": {
    "name": "ipython",
    "version": 3
   },
   "file_extension": ".py",
   "mimetype": "text/x-python",
   "name": "python",
   "nbconvert_exporter": "python",
   "pygments_lexer": "ipython3",
   "version": "3.10.6"
  },
  "orig_nbformat": 4
 },
 "nbformat": 4,
 "nbformat_minor": 2
}
